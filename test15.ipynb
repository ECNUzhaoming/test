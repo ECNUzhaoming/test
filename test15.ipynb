{
 "cells": [
  {
   "cell_type": "code",
   "execution_count": 1,
   "metadata": {
    "collapsed": false,
    "scrolled": true
   },
   "outputs": [
    {
     "name": "stdout",
     "output_type": "stream",
     "text": [
      "wang,50\n"
     ]
    }
   ],
   "source": [
    "if __name__ == '__main__':\n",
    "    person = {\"li\":18,\"wang\":50,\"zhang\":20,\"sun\":22}\n",
    "    m = 'li'\n",
    "    for key in person.keys():\n",
    "        if person[m] < person[key]:\n",
    "            m = key\n",
    " \n",
    "    print ('%s,%d' % (m,person[m]))"
   ]
  },
  {
   "cell_type": "code",
   "execution_count": null,
   "metadata": {
    "collapsed": false
   },
   "outputs": [
    {
     "name": "stdout",
     "output_type": "stream",
     "text": [
      "do you want to play it.('y' or 'n')y\n",
      "input a character:\n",
      "5\n",
      "please input number you guess:\n",
      "\n",
      "input your guess:\n",
      "5\n",
      "please input a little bigger\n",
      "input your guess:\n",
      "28\n",
      "please input a little bigger\n",
      "input your guess:\n",
      "34\n",
      "please input a little bigger\n",
      "input your guess:\n",
      "2\n",
      "please input a little bigger\n",
      "input your guess:\n",
      "31\n",
      "please input a little bigger\n",
      "input your guess:\n",
      "3\n",
      "please input a little bigger\n",
      "input your guess:\n",
      "45\n",
      "please input a little bigger\n",
      "input your guess:\n",
      "6\n",
      "please input a little bigger\n",
      "input your guess:\n",
      "60\n",
      "please input a little bigger\n",
      "input your guess:\n",
      "80\n",
      "please input a little bigger\n",
      "input your guess:\n",
      "1\n",
      "please input a little bigger\n",
      "input your guess:\n",
      "001000\n",
      "please input a little smaller\n",
      "input your guess:\n",
      "100\n",
      "please input a little smaller\n",
      "input your guess:\n",
      "90\n",
      "please input a little smaller\n",
      "input your guess:\n",
      "80\n",
      "please input a little bigger\n",
      "input your guess:\n",
      "70\n",
      "please input a little bigger\n",
      "input your guess:\n",
      "60\n",
      "please input a little bigger\n",
      "input your guess:\n",
      "50\n",
      "please input a little bigger\n",
      "input your guess:\n",
      "40\n",
      "please input a little bigger\n",
      "input your guess:\n",
      "30\n",
      "please input a little bigger\n",
      "input your guess:\n",
      "20\n",
      "please input a little bigger\n",
      "input your guess:\n",
      "5\n",
      "please input a little bigger\n",
      "input your guess:\n",
      "10\n",
      "please input a little bigger\n"
     ]
    }
   ],
   "source": [
    "if __name__ == '__main__':\n",
    "    import time\n",
    "    import random\n",
    "    \n",
    "    play_it = input('do you want to play it.(\\'y\\' or \\'n\\')')\n",
    "    while play_it == 'y':\n",
    "        c = input('input a character:\\n')\n",
    "        i = random.randint(0,2**32) % 100\n",
    "        print ('please input number you guess:\\n')\n",
    "        start = time.clock()\n",
    "        a = time.time()\n",
    "        guess = int(input('input your guess:\\n'))\n",
    "        while guess != i:\n",
    "            if guess > i:\n",
    "                print ('please input a little smaller')\n",
    "                guess = int(input('input your guess:\\n'))\n",
    "            else:\n",
    "                print ('please input a little bigger')\n",
    "                guess = int(input('input your guess:\\n'))\n",
    "        end = time.clock()\n",
    "        b = time.time()\n",
    "        var = (end - start) / 18.2\n",
    "        print (var)\n",
    "        # print 'It took you %6.3 seconds' % time.difftime(b,a))\n",
    "        if var < 15:\n",
    "            print ('you are very clever!')\n",
    "        elif var < 25:\n",
    "            print ('you are normal!')\n",
    "        else:\n",
    "            print ('you are stupid!')\n",
    "        print ('Congradulations')\n",
    "        print ('The number you guess is %d' % i)\n",
    "        play_it = input('do you want to play it.')"
   ]
  },
  {
   "cell_type": "code",
   "execution_count": null,
   "metadata": {
    "collapsed": true
   },
   "outputs": [],
   "source": []
  }
 ],
 "metadata": {
  "anaconda-cloud": {},
  "kernelspec": {
   "display_name": "Python [default]",
   "language": "python",
   "name": "python3"
  },
  "language_info": {
   "codemirror_mode": {
    "name": "ipython",
    "version": 3
   },
   "file_extension": ".py",
   "mimetype": "text/x-python",
   "name": "python",
   "nbconvert_exporter": "python",
   "pygments_lexer": "ipython3",
   "version": "3.5.2"
  }
 },
 "nbformat": 4,
 "nbformat_minor": 1
}
