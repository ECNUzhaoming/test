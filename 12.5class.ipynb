{
 "cells": [
  {
   "cell_type": "code",
   "execution_count": 2,
   "metadata": {
    "collapsed": true
   },
   "outputs": [],
   "source": [
    "from tkinter import *\n",
    "from tkinter import ttk   #theme"
   ]
  },
  {
   "cell_type": "code",
   "execution_count": 5,
   "metadata": {
    "collapsed": false
   },
   "outputs": [
    {
     "name": "stdout",
     "output_type": "stream",
     "text": [
      "hello\n",
      "hello\n",
      "hello\n",
      "hello\n"
     ]
    }
   ],
   "source": [
    "#Graphical User Interface\n",
    "def on_click():\n",
    "    print(\"hello\")\n",
    "    \n",
    "button=ttk.Button()\n",
    "button.pack()\n",
    "button['text']='Click me!'\n",
    "button['command']=on_click\n",
    "mainloop()"
   ]
  },
  {
   "cell_type": "code",
   "execution_count": 21,
   "metadata": {
    "collapsed": false
   },
   "outputs": [],
   "source": [
    "for i in range(10):\n",
    "    ttk.Button(text=i).pack(side=LEFT,fill= BOTH,expand=True)\n",
    "    \n",
    "mainloop()"
   ]
  },
  {
   "cell_type": "code",
   "execution_count": 20,
   "metadata": {
    "collapsed": false,
    "scrolled": true
   },
   "outputs": [
    {
     "name": "stdout",
     "output_type": "stream",
     "text": [
      "hello\n",
      "hello\n",
      "hello\n",
      "hello\n",
      "hello\n"
     ]
    }
   ],
   "source": [
    "def on_click():\n",
    "    print(\"hello\")\n",
    "\n",
    "\n",
    "ttk.Label(text='hello').pack()\n",
    "\n",
    "button=ttk.Button()\n",
    "button.pack()\n",
    "button['text']='Click me!'\n",
    "button['command']=on_click\n",
    "\n",
    "mainloop()"
   ]
  },
  {
   "cell_type": "code",
   "execution_count": 23,
   "metadata": {
    "collapsed": false
   },
   "outputs": [],
   "source": [
    "def on_click():\n",
    "    Label['text']='Clicked'\n",
    "\n",
    "\n",
    "Label=ttk.Label(text='hello')\n",
    "\n",
    "button=ttk.Button()\n",
    "button.pack()\n",
    "button['text']='Click me!'\n",
    "button['command']=on_click\n",
    "\n",
    "mainloop()"
   ]
  },
  {
   "cell_type": "code",
   "execution_count": 24,
   "metadata": {
    "collapsed": true
   },
   "outputs": [],
   "source": [
    "for i in range(4):\n",
    "    for j in range(5):\n",
    "\n",
    "        text='{}.{}'.format(i,j)\n",
    "        ttk.Button(text=text).grid(row=i,column=j)\n",
    "mainloop()"
   ]
  },
  {
   "cell_type": "code",
   "execution_count": 9,
   "metadata": {
    "collapsed": false
   },
   "outputs": [
    {
     "ename": "NameError",
     "evalue": "name 'self_on_ce_click' is not defined",
     "output_type": "error",
     "traceback": [
      "\u001b[0;31m---------------------------------------------------------------------------\u001b[0m",
      "\u001b[0;31mNameError\u001b[0m                                 Traceback (most recent call last)",
      "\u001b[0;32m<ipython-input-9-b12698bec957>\u001b[0m in \u001b[0;36m<module>\u001b[0;34m()\u001b[0m\n\u001b[1;32m    108\u001b[0m \u001b[1;33m\u001b[0m\u001b[0m\n\u001b[1;32m    109\u001b[0m \u001b[1;32mif\u001b[0m \u001b[0m__name__\u001b[0m\u001b[1;33m==\u001b[0m\u001b[1;34m'__main__'\u001b[0m\u001b[1;33m:\u001b[0m\u001b[1;33m\u001b[0m\u001b[0m\n\u001b[0;32m--> 110\u001b[0;31m     \u001b[0mapp\u001b[0m\u001b[1;33m=\u001b[0m\u001b[0mCalculator\u001b[0m\u001b[1;33m(\u001b[0m\u001b[1;33m)\u001b[0m\u001b[1;33m\u001b[0m\u001b[0m\n\u001b[0m\u001b[1;32m    111\u001b[0m     \u001b[0mapp\u001b[0m\u001b[1;33m.\u001b[0m\u001b[0mmainloop\u001b[0m\u001b[1;33m(\u001b[0m\u001b[1;33m)\u001b[0m\u001b[1;33m\u001b[0m\u001b[0m\n",
      "\u001b[0;32m<ipython-input-9-b12698bec957>\u001b[0m in \u001b[0;36m__init__\u001b[0;34m(self, *args, **kwargs)\u001b[0m\n\u001b[1;32m     19\u001b[0m             \u001b[0mrow\u001b[0m\u001b[1;33m=\u001b[0m\u001b[0mFrame\u001b[0m\u001b[1;33m(\u001b[0m\u001b[0mself\u001b[0m\u001b[1;33m)\u001b[0m\u001b[1;33m\u001b[0m\u001b[0m\n\u001b[1;32m     20\u001b[0m             \u001b[0mrow\u001b[0m\u001b[1;33m.\u001b[0m\u001b[0mpack\u001b[0m\u001b[1;33m(\u001b[0m\u001b[0mside\u001b[0m\u001b[1;33m=\u001b[0m\u001b[0mTOP\u001b[0m\u001b[1;33m,\u001b[0m\u001b[0mexpand\u001b[0m\u001b[1;33m=\u001b[0m\u001b[1;32mTrue\u001b[0m\u001b[1;33m,\u001b[0m\u001b[0mfill\u001b[0m\u001b[1;33m=\u001b[0m\u001b[0mBOTH\u001b[0m\u001b[1;33m)\u001b[0m\u001b[1;33m\u001b[0m\u001b[0m\n\u001b[0;32m---> 21\u001b[0;31m             \u001b[0mself\u001b[0m\u001b[1;33m.\u001b[0m\u001b[0madd_button\u001b[0m\u001b[1;33m(\u001b[0m\u001b[0mrow\u001b[0m\u001b[1;33m,\u001b[0m\u001b[1;34m'CE'\u001b[0m\u001b[1;33m,\u001b[0m\u001b[0mself_on_ce_click\u001b[0m\u001b[1;33m)\u001b[0m\u001b[1;33m\u001b[0m\u001b[0m\n\u001b[0m\u001b[1;32m     22\u001b[0m             \u001b[0mself\u001b[0m\u001b[1;33m.\u001b[0m\u001b[0madd_button\u001b[0m\u001b[1;33m(\u001b[0m\u001b[0mrow\u001b[0m\u001b[1;33m,\u001b[0m\u001b[1;34m'C'\u001b[0m\u001b[1;33m,\u001b[0m\u001b[0mself_on_c_click\u001b[0m\u001b[1;33m)\u001b[0m\u001b[1;33m\u001b[0m\u001b[0m\n\u001b[1;32m     23\u001b[0m             \u001b[0mself\u001b[0m\u001b[1;33m.\u001b[0m\u001b[0madd_button\u001b[0m\u001b[1;33m(\u001b[0m\u001b[0mrow\u001b[0m\u001b[1;33m,\u001b[0m\u001b[1;34m'Back'\u001b[0m\u001b[1;33m,\u001b[0m\u001b[0mself_on_back_click\u001b[0m\u001b[1;33m)\u001b[0m\u001b[1;33m\u001b[0m\u001b[0m\n",
      "\u001b[0;31mNameError\u001b[0m: name 'self_on_ce_click' is not defined"
     ]
    }
   ],
   "source": [
    "from tkinter import *\n",
    "from tkinter import ttk   #theme\n",
    "from enum import Enum\n",
    "\n",
    "class State(Enum):\n",
    "    calculated=0\n",
    "    in_number1=1\n",
    "    post_operator=2\n",
    "    in_number2=3\n",
    "    \n",
    "\n",
    "\n",
    "class Calculator(Tk):\n",
    "    def __init__(self,*args,**kwargs):\n",
    "            super().__init__(*args,**kwargs)\n",
    "            self.title('Simple calculator')\n",
    "            \n",
    "            \n",
    "            self.result_string=StringVar()\n",
    "            self.result_string.set('0')\n",
    "            self.number1=\"0\"\n",
    "            self.number2=\"1\"\n",
    "            self.operator=None\n",
    "            self.state=State.calculated\n",
    "            \n",
    "            output=ttk.Label(self,textvariable=self.result_string,font=('TKDefaulFont',48),anchor=E)\n",
    "            output.pack(side=TOP,expand=True,fill=BOTH)\n",
    "            \n",
    "            row=Frame(self)\n",
    "            row.pack(side=TOP,expand=True,fill=BOTH)\n",
    "            self.add_button(row,'CE',self_on_ce_click)\n",
    "            self.add_button(row,'C',self_on_c_click)\n",
    "            self.add_button(row,'Back',self_on_back_click)\n",
    "            self.add_button(row,'/',self_on_chu_click)\n",
    "\n",
    "\n",
    "            row=Frame(self)\n",
    "            row.pack(side=TOP,expand=True,fill=BOTH)\n",
    "            self.add_button(row,'7',self_on_7_click)\n",
    "            self.add_button(row,'8',self_on_8_click)\n",
    "            self.add_button(row,'9',self_on_9_click)\n",
    "            self.add_button(row,'*',self_on_cheng_click)\n",
    "\n",
    "            row=Frame(self)\n",
    "            row.pack(side=TOP,expand=True,fill=BOTH)\n",
    "            self.add_button(row,'4',self_on_4_click)\n",
    "            self.add_button(row,'5',self_on_5_click)\n",
    "            self.add_button(row,'6',self_on_6_click)\n",
    "            self.add_button(row,'-',self_on_minus_click)\n",
    "\n",
    "            row=Frame(self)\n",
    "            row.pack(side=TOP,expand=True,fill=BOTH)\n",
    "            self.add_button(row,'1',self_on_1_click)\n",
    "            self.add_button(row,'2',self_on_2_click)\n",
    "            self.add_button(row,'3',self_on_3_click)\n",
    "            self.add_button(row,'+',self_on_add_click)\n",
    "\n",
    "            row=Frame(self)\n",
    "            row.pack(side=TOP,expand=True,fill=BOTH)\n",
    "            self.add_button(row,'+/-',self_on_or_click)\n",
    "            self.add_button(row,'0',self_on_0_click)\n",
    "            self.add_button(row,'.',self_on_point_click)\n",
    "            self.add_button(row,'=',self_on_equal_click)\n",
    "\n",
    "    def add_button(self,parent,text=None,command=None):\n",
    "        button=ttk.Button(parent,text=text,command=command)\n",
    "        button.pack(side=LEFT,expand=True,fill=BOTH)\n",
    "        \n",
    "    #def on_ce_click()\n",
    "    def on_0_click(self):\n",
    "        print(\"0\")\n",
    "        self.on_number(\"0\")\n",
    "    def on_1_click(self):\n",
    "        print(\"1\")\n",
    "        self.on_number(\"1\")\n",
    "    def on_2_click(self):\n",
    "        print(\"2\")\n",
    "        self.on_number(\"2\")\n",
    "    def on_3_click(self):\n",
    "        print(\"3\")\n",
    "        self.on_number(\"\")\n",
    "    def on_4_click(self):\n",
    "        print(\"4\")\n",
    "        self.on_number(\"4\")\n",
    "    def on_5_click(self):\n",
    "        print(\"5\")\n",
    "        self.on_number(\"5\")\n",
    "    def on_6_click(self):\n",
    "        print(\"6\")\n",
    "        self.on_number(\"6\")\n",
    "    def on_7_click(self):\n",
    "        print(\"7\")\n",
    "        self.on_number(\"7\")\n",
    "    def on_8_click(self):\n",
    "        print(\"8\")\n",
    "        self.on_number(\"8\")\n",
    "    def on_9_click(self):\n",
    "        print(\"9\")\n",
    "        self.on_number(\"9\")\n",
    "\n",
    "    def on_number(self,ch):\n",
    "        if self.state==State.calculated:\n",
    "            self.number1=ch\n",
    "            self.state=state.in_nuber1\n",
    "        elif self.state==State.in_number1:\n",
    "            self.number1=self.number1+ch\n",
    "        elif self.state==state.post_operator:\n",
    "            self.number2=ch\n",
    "            self.state=State.in_number2\n",
    "        elif self.state==State.in_number2:\n",
    "            self.number2=self.number+ch\n",
    "        \n",
    "    def on_add_click(self):\n",
    "        print(\"+\")\n",
    "    def on_jian_click(self):\n",
    "        print(\"-\")\n",
    "    def on_cheng_click(self):\n",
    "        print(\"*\")\n",
    "    def on_chu_click(self):\n",
    "        print(\"/\")\n",
    "    def on_point_click(self):\n",
    "        print(\".\")\n",
    "        self.on_number(\".\")\n",
    "    def on_ce_click(self):\n",
    "        print(\"ce\")\n",
    "    def on_c_click(self):\n",
    "        print(\"c\")\n",
    "    def on_back_click(self):\n",
    "        print(\"back\")\n",
    "    def on_or_click(self):\n",
    "        print(\"+/-\")\n",
    "    def on_equal_click(self):\n",
    "        print(\"=\")\n",
    "        if self.opetator==\"+\":\n",
    "            self.number1=str(float(self.number1)+float(self.number2))\n",
    "        elif self.opetator==\"-\":\n",
    "            self.number1=str(float(self.number1)-float(self.number2))\n",
    "        elif self.opetator==\"*\":\n",
    "            self.number1=str(float(self.number1)*float(self.number2))\n",
    "        elif self.opetator==\"/\":\n",
    "            self.number1=str(float(self.number1)/float(self.number2))\n",
    "        self.result_string.set(self.number1)\n",
    "            \n",
    "if __name__=='__main__':\n",
    "    app=Calculator()\n",
    "    app.mainloop()"
   ]
  },
  {
   "cell_type": "code",
   "execution_count": null,
   "metadata": {
    "collapsed": true
   },
   "outputs": [],
   "source": []
  },
  {
   "cell_type": "code",
   "execution_count": null,
   "metadata": {
    "collapsed": true
   },
   "outputs": [],
   "source": []
  }
 ],
 "metadata": {
  "anaconda-cloud": {},
  "kernelspec": {
   "display_name": "Python [default]",
   "language": "python",
   "name": "python3"
  }
 },
 "nbformat": 4,
 "nbformat_minor": 1
}
