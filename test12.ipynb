{
 "cells": [
  {
   "cell_type": "code",
   "execution_count": 1,
   "metadata": {
    "collapsed": false
   },
   "outputs": [
    {
     "name": "stdout",
     "output_type": "stream",
     "text": [
      "[1, 2, 3]\n",
      "[1, 2, 3, 3, 4, 5]\n",
      "[1, 2, 3, 3, 4, 5]\n"
     ]
    }
   ],
   "source": [
    "if __name__ == '__main__':\n",
    "    a = [1,3,2]\n",
    "    b = [3,4,5]\n",
    "    a.sort()     # 对列表 a 进行排序\n",
    "    print (a)\n",
    " \n",
    "    # 连接列表 a 与 b\n",
    "    print (a+b)\n",
    "    \n",
    "    # 连接列表 a 与 b\n",
    "    a.extend(b)\n",
    "    print (a)"
   ]
  },
  {
   "cell_type": "code",
   "execution_count": 2,
   "metadata": {
    "collapsed": false
   },
   "outputs": [
    {
     "name": "stdout",
     "output_type": "stream",
     "text": [
      "67\n"
     ]
    }
   ],
   "source": [
    "if __name__ == '__main__':\n",
    "    for i in range(5):\n",
    "        n = 0\n",
    "        if i != 1: n += 1\n",
    "        if i == 3: n += 1\n",
    "        if i == 4: n += 1\n",
    "        if i != 4: n += 1\n",
    "        if n == 3: print (64 + i)"
   ]
  },
  {
   "cell_type": "code",
   "execution_count": 4,
   "metadata": {
    "collapsed": false
   },
   "outputs": [
    {
     "name": "stdout",
     "output_type": "stream",
     "text": [
      "input a number:\n",
      "23\n",
      "2.2243528386481675\n"
     ]
    }
   ],
   "source": [
    "\n",
    "def peven(n):\n",
    "    i = 0\n",
    "    s = 0.0\n",
    "    for i in range(2,n + 1,2):\n",
    "        s += 1.0 / i   # Python里，整数除整数，只能得出整数，所以需要使用 浮点数 1.0\n",
    "    return s\n",
    " \n",
    "def podd(n):\n",
    "    s = 0.0\n",
    "    for i in range(1, n + 1,2):\n",
    "        s += 1.0 / i    # Python里，整数除整数，只能得出整数，所以需要使用 浮点数 1.0\n",
    "    return s\n",
    " \n",
    "def dcall(fp,n):\n",
    "    s = fp(n)\n",
    "    return s\n",
    " \n",
    "if __name__ == '__main__':\n",
    "    n = int(input('input a number:\\n'))\n",
    "    if n % 2 == 0:\n",
    "        sum = dcall(peven,n)\n",
    "    else:\n",
    "        sum = dcall(podd,n)\n",
    "    print (sum)"
   ]
  },
  {
   "cell_type": "code",
   "execution_count": null,
   "metadata": {
    "collapsed": true
   },
   "outputs": [],
   "source": []
  }
 ],
 "metadata": {
  "anaconda-cloud": {},
  "kernelspec": {
   "display_name": "Python [default]",
   "language": "python",
   "name": "python3"
  },
  "language_info": {
   "codemirror_mode": {
    "name": "ipython",
    "version": 3
   },
   "file_extension": ".py",
   "mimetype": "text/x-python",
   "name": "python",
   "nbconvert_exporter": "python",
   "pygments_lexer": "ipython3",
   "version": "3.5.2"
  }
 },
 "nbformat": 4,
 "nbformat_minor": 1
}
